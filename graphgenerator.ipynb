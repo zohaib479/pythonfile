{
 "cells": [
  {
   "cell_type": "code",
   "execution_count": null,
   "metadata": {},
   "outputs": [
    {
     "name": "stderr",
     "output_type": "stream",
     "text": [
      "INFO:     Started server process [14008]\n",
      "INFO:     Waiting for application startup.\n",
      "INFO:     Application startup complete.\n",
      "INFO:     Uvicorn running on http://0.0.0.0:8000 (Press CTRL+C to quit)\n"
     ]
    },
    {
     "name": "stdout",
     "output_type": "stream",
     "text": [
      "INFO:     127.0.0.1:62675 - \"GET /generate-graph?complexity=O(1)&n_max=30 HTTP/1.1\" 200 OK\n",
      "INFO:     127.0.0.1:62754 - \"GET /generate-graph?complexity=1&n_max=30 HTTP/1.1\" 200 OK\n",
      "INFO:     127.0.0.1:62757 - \"OPTIONS /generate-graph?complexity=O(n)&n_max=30 HTTP/1.1\" 405 Method Not Allowed\n",
      "INFO:     127.0.0.1:62756 - \"GET /generate-graph?complexity=O(n)&n_max=30 HTTP/1.1\" 200 OK\n",
      "INFO:     127.0.0.1:62761 - \"GET /generate-graph?complexity=n%5E2&n_max=30 HTTP/1.1\" 200 OK\n"
     ]
    }
   ],
   "source": [
    "from fastapi import FastAPI, Query, HTTPException\n",
    "from fastapi.responses import FileResponse\n",
    "import nest_asyncio\n",
    "import uvicorn\n",
    "import matplotlib.pyplot as plt\n",
    "import numpy as np\n",
    "import os\n",
    "import re\n",
    "\n",
    "# Apply nest_asyncio to allow running Uvicorn in Jupyter/Colab\n",
    "nest_asyncio.apply()\n",
    "\n",
    "app = FastAPI()\n",
    "\n",
    "def parse_and_generate_values(complexity_str, n):\n",
    "    # Clean up the input string\n",
    "    complexity_str = complexity_str.lower().replace(\" \", \"\")\n",
    "    \n",
    "    # Handle special cases\n",
    "    if complexity_str in [\"1\", \"c\", \"constant\", \"o(1)\",\"O(1)\"]:\n",
    "        return np.ones_like(n), \"O(1)\"\n",
    "        \n",
    "    elif complexity_str in [\"logn\", \"log(n)\", \"o(logn)\", \"o(log(n))\"]:\n",
    "        return np.log2(n), \"O(log n)\"\n",
    "        \n",
    "    elif complexity_str in [\"n\", \"linear\", \"o(n)\"]:\n",
    "        return n, \"O(n)\"\n",
    "        \n",
    "    elif complexity_str in [\"nlogn\", \"nlog(n)\", \"n*logn\", \"n*log(n)\", \"o(nlogn)\"]:\n",
    "        return n * np.log2(n), \"O(n log n)\"\n",
    "        \n",
    "    elif complexity_str in [\"n2\", \"n^2\", \"nsquared\", \"quadratic\", \"o(n2)\", \"o(n^2)\",\"n**2x\"]:\n",
    "        return n**2, \"O(n²)\"\n",
    "        \n",
    "    elif complexity_str in [\"n3\", \"n^3\", \"ncubed\", \"cubic\", \"o(n3)\", \"o(n^3)\",\"n**3\"]:\n",
    "        return n**3, \"O(n³)\"\n",
    "        \n",
    "    # Handle 2^h, 2^n, etc.\n",
    "    elif re.match(r\"2\\^[a-zA-Z]\", complexity_str) or complexity_str in [\"exponential\", \"o(2^n)\",\"2**n\",\"2**h\"]:\n",
    "        label = f\"O({complexity_str})\" if not complexity_str.startswith(\"o(\") else complexity_str.upper()\n",
    "        # Limit the values to avoid overflow\n",
    "        return np.where(n < 30, 2**n, np.inf), label\n",
    "        \n",
    "    elif complexity_str in [\"n!\", \"factorial\", \"o(n!)\"]:\n",
    "        # Use Stirling's approximation for large n to avoid overflow\n",
    "        return np.where(n < 20, np.array([np.math.factorial(int(i)) for i in n]), np.inf), \"O(n!)\"\n",
    "        \n",
    "    else:\n",
    "        raise ValueError(f\"Unsupported complexity: {complexity_str}\")\n",
    "\n",
    "@app.get(\"/status\")\n",
    "def get_status():\n",
    "    return {\"message\": \"Server is running\"}\n",
    "\n",
    "@app.get(\"/generate-graph\")\n",
    "def generate_graph(\n",
    "    complexity: str = Query(..., description=\"Time complexity (e.g., 'nlogn', 'n2', '2^h')\"),\n",
    "    n_max: int = Query(100, description=\"Maximum input size to plot\")\n",
    "):\n",
    "    try:\n",
    "        # Ensure output directory exists\n",
    "        os.makedirs(\"output\", exist_ok=True)\n",
    "        \n",
    "        # Generate input sizes (more points for better curve)\n",
    "        n = np.linspace(1, n_max, 1000)\n",
    "        n[0] = 1  # Ensure we start at 1 to avoid log(0)\n",
    "        \n",
    "        # Generate complexity values and get the formatted label\n",
    "        values, label = parse_and_generate_values(complexity, n)\n",
    "        \n",
    "        # Create the plot\n",
    "        plt.figure(figsize=(10, 6))\n",
    "        plt.plot(n, values, label=label, linewidth=2, color='blue')\n",
    "        \n",
    "        # Find appropriate scale based on data\n",
    "        if np.any(values > 1000):\n",
    "            plt.yscale('log')\n",
    "        \n",
    "        # Add labels and title\n",
    "        plt.xlabel('Input Size (n)')\n",
    "        plt.ylabel('Number of Operations')\n",
    "        plt.title(f'Time Complexity Analysis: {label}')\n",
    "        plt.legend()\n",
    "        plt.grid(True, alpha=0.3)\n",
    "        \n",
    "        # Add algorithm growth region\n",
    "        plt.fill_between(n, values, alpha=0.1, color='blue')\n",
    "        \n",
    "        # Save the plot\n",
    "        output_path = \"output/time_complexity_graph.png\"\n",
    "        plt.savefig(output_path, dpi=300)\n",
    "        plt.close()\n",
    "        \n",
    "        # Return the image file\n",
    "        return FileResponse(output_path, media_type=\"image/png\")\n",
    "    \n",
    "    except ValueError as e:\n",
    "        raise HTTPException(status_code=400, detail=str(e))\n",
    "    except Exception as e:\n",
    "        raise HTTPException(status_code=500, detail=f\"Error generating graph: {str(e)}\")\n",
    "\n",
    "# Run the server\n",
    "if __name__ == \"__main__\":\n",
    "    uvicorn.run(app, host=\"0.0.0.0\", port=8000)"
   ]
  },
  {
   "cell_type": "code",
   "execution_count": 10,
   "metadata": {},
   "outputs": [
    {
     "name": "stdout",
     "output_type": "stream",
     "text": [
      "Requirement already satisfied: fastapi in d:\\anaconda3\\lib\\site-packages (0.115.8)\n",
      "Requirement already satisfied: uvicorn in d:\\anaconda3\\lib\\site-packages (0.34.0)\n",
      "Requirement already satisfied: nest_asyncio in d:\\anaconda3\\lib\\site-packages (1.6.0)\n",
      "Requirement already satisfied: starlette<0.46.0,>=0.40.0 in d:\\anaconda3\\lib\\site-packages (from fastapi) (0.45.3)\n",
      "Requirement already satisfied: pydantic!=1.8,!=1.8.1,!=2.0.0,!=2.0.1,!=2.1.0,<3.0.0,>=1.7.4 in d:\\anaconda3\\lib\\site-packages (from fastapi) (2.8.2)\n",
      "Requirement already satisfied: typing-extensions>=4.8.0 in d:\\anaconda3\\lib\\site-packages (from fastapi) (4.11.0)\n",
      "Requirement already satisfied: click>=7.0 in d:\\anaconda3\\lib\\site-packages (from uvicorn) (8.1.7)\n",
      "Requirement already satisfied: h11>=0.8 in d:\\anaconda3\\lib\\site-packages (from uvicorn) (0.14.0)\n",
      "Requirement already satisfied: colorama in d:\\anaconda3\\lib\\site-packages (from click>=7.0->uvicorn) (0.4.6)\n",
      "Requirement already satisfied: annotated-types>=0.4.0 in d:\\anaconda3\\lib\\site-packages (from pydantic!=1.8,!=1.8.1,!=2.0.0,!=2.0.1,!=2.1.0,<3.0.0,>=1.7.4->fastapi) (0.6.0)\n",
      "Requirement already satisfied: pydantic-core==2.20.1 in d:\\anaconda3\\lib\\site-packages (from pydantic!=1.8,!=1.8.1,!=2.0.0,!=2.0.1,!=2.1.0,<3.0.0,>=1.7.4->fastapi) (2.20.1)\n",
      "Requirement already satisfied: anyio<5,>=3.6.2 in d:\\anaconda3\\lib\\site-packages (from starlette<0.46.0,>=0.40.0->fastapi) (4.2.0)\n",
      "Requirement already satisfied: idna>=2.8 in d:\\anaconda3\\lib\\site-packages (from anyio<5,>=3.6.2->starlette<0.46.0,>=0.40.0->fastapi) (3.7)\n",
      "Requirement already satisfied: sniffio>=1.1 in d:\\anaconda3\\lib\\site-packages (from anyio<5,>=3.6.2->starlette<0.46.0,>=0.40.0->fastapi) (1.3.0)\n"
     ]
    }
   ],
   "source": [
    "!pip install fastapi uvicorn nest_asyncio"
   ]
  }
 ],
 "metadata": {
  "kernelspec": {
   "display_name": "Python 3",
   "language": "python",
   "name": "python3"
  },
  "language_info": {
   "codemirror_mode": {
    "name": "ipython",
    "version": 3
   },
   "file_extension": ".py",
   "mimetype": "text/x-python",
   "name": "python",
   "nbconvert_exporter": "python",
   "pygments_lexer": "ipython3",
   "version": "3.12.0"
  }
 },
 "nbformat": 4,
 "nbformat_minor": 2
}
